{
 "cells": [
  {
   "cell_type": "markdown",
   "metadata": {},
   "source": [
    "https://cs231n.github.io/transfer-learning/\n",
    "\n",
    "https://pytorch.org/tutorials/beginner/transfer_learning_tutorial.html\n",
    "\n",
    "https://medium.com/@tsakunelsonz/adding-custom-made-images-using-data-loaders-for-transfer-learning-in-five-steps-9d879bb5b80e\n",
    "\n",
    "https://medium.com/@tsakunelsonz/loading-and-training-a-neural-network-with-custom-dataset-via-transfer-learning-in-pytorch-8e672933469\n",
    "\n",
    "https://medium.com/swlh/image-classification-tutorials-in-pytorch-transfer-learning-19ebc329e200"
   ]
  },
  {
   "cell_type": "code",
   "execution_count": 1,
   "metadata": {},
   "outputs": [],
   "source": [
    "import torch\n",
    "import torch.nn as nn\n",
    "import torch.optim as optim\n",
    "from torch.optim import lr_scheduler\n",
    "import numpy as np\n",
    "import torchvision\n",
    "from torchvision import datasets, models, transforms\n",
    "import matplotlib.pyplot as plt\n",
    "import time\n",
    "import os\n",
    "import copy\n",
    "from collections import OrderedDict  # used to preserve ordering when passing dict to nn.Sequential()\n",
    "\n",
    "############################## THIS IS TO RESOLVE ENVVIRONMENT ISSUES...NEED TO REMOVE ONCE MIGRATED TO COLAB \n",
    "os.environ['KMP_DUPLICATE_LIB_OK']='True'"
   ]
  },
  {
   "cell_type": "markdown",
   "metadata": {},
   "source": [
    "## Setup DataSets (ImageFolder), Transforms(), and DataLoader()"
   ]
  },
  {
   "cell_type": "code",
   "execution_count": 2,
   "metadata": {},
   "outputs": [
    {
     "data": {
      "text/plain": [
       "{'train': Compose(\n",
       "     RandomResizedCrop(size=(224, 224), scale=(0.08, 1.0), ratio=(0.75, 1.3333), interpolation=PIL.Image.BILINEAR)\n",
       "     RandomHorizontalFlip(p=0.5)\n",
       "     ToTensor()\n",
       "     Normalize(mean=[0.485, 0.456, 0.406], std=[0.229, 0.224, 0.225])\n",
       " ), 'val': Compose(\n",
       "     Resize(size=256, interpolation=PIL.Image.BILINEAR)\n",
       "     CenterCrop(size=(224, 224))\n",
       "     ToTensor()\n",
       "     Normalize(mean=[0.485, 0.456, 0.406], std=[0.229, 0.224, 0.225])\n",
       " )}"
      ]
     },
     "execution_count": 2,
     "metadata": {},
     "output_type": "execute_result"
    }
   ],
   "source": [
    "# Data augmentation and normalization for training; Just normalization for validation\n",
    "data_transforms = {\n",
    "    'train': transforms.Compose([                   # used to \"compose\" several transforms together\n",
    "        transforms.RandomResizedCrop(224),          # crop random, aspect ratio random, output 224*224\n",
    "        transforms.RandomHorizontalFlip(),          # horizontally flip image randomly with prob .5 (default)\n",
    "        transforms.ToTensor(),                      # convert to tensornormak\n",
    "        transforms.Normalize([0.485, 0.456, 0.406], [0.229, 0.224, 0.225])    # normalize pre-computed means & STDs\n",
    "    ]),\n",
    "    'val': transforms.Compose([\n",
    "        transforms.Resize(256),     # force resize. If size is a sequence like (h, w), output size will be matched to this. If size is an int, smaller edge of the image will be matched to this number. i.e, if height > width, then image will be rescaled to (size * height / width, size)\n",
    "        transforms.CenterCrop(224), # crop out of center\n",
    "        transforms.ToTensor(),      # convert to tensor\n",
    "        transforms.Normalize([0.485, 0.456, 0.406], [0.229, 0.224, 0.225])    # normalize pre-computed means & STDs\n",
    "    ]),\n",
    "}\n",
    "\n",
    "# set data directory to root of this notebook\n",
    "data_dir = 'hymenoptera_data'\n",
    "\n",
    "# instantiate torch device object; check for cuda (will be set type=\"cpu\" on my machine)\n",
    "device = torch.device(\"cuda:0\" if torch.cuda.is_available() else \"cpu\")\n",
    "\n",
    "data_transforms"
   ]
  },
  {
   "cell_type": "code",
   "execution_count": 3,
   "metadata": {},
   "outputs": [
    {
     "data": {
      "text/plain": [
       "device(type='cpu')"
      ]
     },
     "execution_count": 3,
     "metadata": {},
     "output_type": "execute_result"
    }
   ],
   "source": [
    "# does environment support CUDA GPU\n",
    "device"
   ]
  },
  {
   "cell_type": "code",
   "execution_count": 4,
   "metadata": {},
   "outputs": [
    {
     "data": {
      "text/plain": [
       "{'train': Dataset ImageFolder\n",
       "     Number of datapoints: 244\n",
       "     Root location: hymenoptera_data/train\n",
       "     StandardTransform\n",
       " Transform: Compose(\n",
       "                RandomResizedCrop(size=(224, 224), scale=(0.08, 1.0), ratio=(0.75, 1.3333), interpolation=PIL.Image.BILINEAR)\n",
       "                RandomHorizontalFlip(p=0.5)\n",
       "                ToTensor()\n",
       "                Normalize(mean=[0.485, 0.456, 0.406], std=[0.229, 0.224, 0.225])\n",
       "            ), 'val': Dataset ImageFolder\n",
       "     Number of datapoints: 153\n",
       "     Root location: hymenoptera_data/val\n",
       "     StandardTransform\n",
       " Transform: Compose(\n",
       "                Resize(size=256, interpolation=PIL.Image.BILINEAR)\n",
       "                CenterCrop(size=(224, 224))\n",
       "                ToTensor()\n",
       "                Normalize(mean=[0.485, 0.456, 0.406], std=[0.229, 0.224, 0.225])\n",
       "            )}"
      ]
     },
     "execution_count": 4,
     "metadata": {},
     "output_type": "execute_result"
    }
   ],
   "source": [
    "# initialize the datasets dictionary\n",
    "# call ImageFolder method each for \"train\" and \"val\"\n",
    "# creates a dictionary with keys \"train\" and \"val\" with instantiate object for each\n",
    "image_datasets = {x: datasets.ImageFolder(os.path.join(data_dir, x),\n",
    "                                          data_transforms[x])  # passes our data transforms dictionary from above\n",
    "                  for x in ['train', 'val']}\n",
    "\n",
    "image_datasets"
   ]
  },
  {
   "cell_type": "code",
   "execution_count": 5,
   "metadata": {},
   "outputs": [
    {
     "data": {
      "text/plain": [
       "{'train': <torch.utils.data.dataloader.DataLoader at 0x106d0ea20>,\n",
       " 'val': <torch.utils.data.dataloader.DataLoader at 0x122c1d320>}"
      ]
     },
     "execution_count": 5,
     "metadata": {},
     "output_type": "execute_result"
    }
   ],
   "source": [
    "# more on DataLoader: https://medium.com/@tsakunelsonz/adding-custom-made-images-using-data-loaders-for-transfer-learning-in-five-steps-9d879bb5b80e\n",
    "# instantiate dataloaders into a dictionary of train/val\n",
    "dataloaders = {x: torch.utils.data.DataLoader(image_datasets[x], batch_size=4,\n",
    "                                             shuffle=True, num_workers=4)\n",
    "              for x in ['train', 'val']}\n",
    "\n",
    "dataloaders"
   ]
  },
  {
   "cell_type": "code",
   "execution_count": 6,
   "metadata": {},
   "outputs": [
    {
     "data": {
      "text/plain": [
       "{'train': 244, 'val': 153}"
      ]
     },
     "execution_count": 6,
     "metadata": {},
     "output_type": "execute_result"
    }
   ],
   "source": [
    "# save and print dataset sizes\n",
    "dataset_sizes = {x: len(image_datasets[x]) for x in ['train', 'val']}\n",
    "dataset_sizes"
   ]
  },
  {
   "cell_type": "code",
   "execution_count": 7,
   "metadata": {},
   "outputs": [
    {
     "data": {
      "text/plain": [
       "['ants', 'bees']"
      ]
     },
     "execution_count": 7,
     "metadata": {},
     "output_type": "execute_result"
    }
   ],
   "source": [
    "# save and print class_names\n",
    "class_names = image_datasets['train'].classes\n",
    "class_names"
   ]
  },
  {
   "cell_type": "markdown",
   "metadata": {},
   "source": [
    "## Visualize Images from Data Set"
   ]
  },
  {
   "cell_type": "code",
   "execution_count": 8,
   "metadata": {},
   "outputs": [
    {
     "data": {
      "image/png": "[encoded data removed]",
      "text/plain": [
       "<Figure size 432x288 with 1 Axes>"
      ]
     },
     "metadata": {
      "needs_background": "light"
     },
     "output_type": "display_data"
    }
   ],
   "source": [
    "def imshow(inp, title=None):\n",
    "    \"\"\"Imshow for Tensor.\"\"\"\n",
    "    inp = inp.numpy().transpose((1, 2, 0))\n",
    "    mean = np.array([0.485, 0.456, 0.406])\n",
    "    std = np.array([0.229, 0.224, 0.225])\n",
    "    inp = std * inp + mean\n",
    "    inp = np.clip(inp, 0, 1)\n",
    "    plt.imshow(inp)\n",
    "    if title is not None:\n",
    "        plt.title(title)\n",
    "    plt.pause(0.001)  # pause a bit so that plots are updated\n",
    "\n",
    "# Get a batch of training data\n",
    "inputs, classes = next(iter(dataloaders['train']))  # this is 4 images because batch size is 4\n",
    "\n",
    "# Make a grid from batch\n",
    "out = torchvision.utils.make_grid(inputs)\n",
    "\n",
    "imshow(out, title=[class_names[x] for x in classes])"
   ]
  },
  {
   "cell_type": "markdown",
   "metadata": {},
   "source": [
    "## Define the train_model() Function"
   ]
  },
  {
   "cell_type": "code",
   "execution_count": 22,
   "metadata": {},
   "outputs": [],
   "source": [
    "# https://medium.com/@tsakunelsonz/loading-and-training-a-neural-network-with-custom-dataset-via-transfer-learning-in-pytorch-8e672933469\n",
    "# https://pytorch.org/tutorials/beginner/transfer_learning_tutorial.html\n",
    "\n",
    "def train_model(model, loader, optimizer, scheduler, criterion, epochs):\n",
    "    gpu = False                                # will need to accomodate for this once in GPU/CUDA environment\n",
    "    since = time.time()                        # start the clock\n",
    "    best_model_wts = copy.deepcopy(model.state_dict())  # deep copy current model, pretrained and empty added layers\n",
    "    best_acc = 0.0                             # initialize best accuracy to track all epochs accuracy\n",
    "    epoch = 0                                  # initialize epoch counter\n",
    "    for e in range(epochs):                    # loop through epochs\n",
    "        epoch +=1                              # increment epoch\n",
    "############################################################## TRAINING PHASE ################\n",
    "        print(\"Training Epoch: {}\".format(epoch))\n",
    "        model.train()                          # switch to training mode\n",
    "        current_loss = 0\n",
    "        current_correct = 0\n",
    "        for train, y_train in iter(loader[\"train\"]): # iterate on DataLoader for training\n",
    "            if gpu:                                  # train.to and y_train.to are defaulted to CPU\n",
    "                train, y_train = train.to('cuda'), y_train.to('cuda') # if GPU then use GPU not CPU, via to() method\n",
    "            optimizer.zero_grad()                    # initialize optimizer gradients to zero\n",
    "            with torch.set_grad_enabled(True):       # set gradients enabled flag for training\n",
    "                output = model.forward(train)        # feed forward the training instance\n",
    "                _, preds = torch.max(output,1)\n",
    "                loss = criterion(output, y_train)    # calculate cross entropy loss\n",
    "                loss.backward()                      # calculate gradients via back propagate the gradients\n",
    "                optimizer.step()                     # parameter update based on the current gradient (stored in .grad attribute of a parameter) and the update rule.\n",
    "        current_loss += loss.item()*train.size(0)              # calculate current loss\n",
    "        current_correct += torch.sum(preds == y_train.data)    # calculate current accuracy\n",
    "    \n",
    "        epoch_train_loss = current_loss / len(loader[\"train\"].dataset)            # calculate epoch loss\n",
    "        epoch_train_acc = current_correct.double() / len(loader[\"train\"].dataset) # calculate epoch accuracy\n",
    "        print(\"Epoch: {} Train Loss : {:.4f}  Train Accuracy: {:.4f}\".format(epoch, epoch_train_loss, epoch_train_acc))        \n",
    "        scheduler.step()                               # update LR decay in scheduler per epoch of training\n",
    "############################################################## VALIDATION PHASE ################\n",
    "        \n",
    "        model.eval()                           # switch to evaluation mode\n",
    "        valid_loss = 0\n",
    "        valid_correct = 0\n",
    "        for valid, y_valid in iter(loader[\"val\"]): # iterate on DataLoader for validation\n",
    "            if gpu:\n",
    "                valid, y_valid = valid.to('cuda'), y_valid.to('cuda')\n",
    "            with torch.no_grad():                  # set gradients enabled flag for validation\n",
    "                output = model.forward(valid)      # feed forward the validation instance\n",
    "                valid_loss += criterion(output, y_valid).item()*valid.size(0)\n",
    "                equal = (output.max(dim=1)[1] == y_valid.data)\n",
    "                valid_correct += torch.sum(equal)  #type(torch.FloatTensor)\n",
    "    \n",
    "        epoch_val_loss = valid_loss / len(loader[\"val\"].dataset)\n",
    "        epoch_val_acc = valid_correct.double() / len(loader[\"val\"].dataset)\n",
    "        print(\"Epoch: {} Validation Loss : {:.4f}  Validation Accuracy {:.4f}\".format(epoch, epoch_val_loss, epoch_val_acc))\n",
    "        \n",
    "        # if current epoch validation accuracy is greatest yet, deep copy the model parameters      \n",
    "        if epoch_val_acc > best_acc:\n",
    "            best_acc = epoch_val_acc  \n",
    "            best_model_wts = copy.deepcopy(model.state_dict())\n",
    "                                                                           \n",
    "    # get time elapsed and print    \n",
    "    time_elapsed = time.time() - since                     \n",
    "    print('Training complete in {:.0f}m {:.0f}s'.format(time_elapsed // 60, time_elapsed % 60))\n",
    "    print('Best val Acc: {:4f}'.format(best_acc))\n",
    "        \n",
    "    # load best model weights and return them\n",
    "    model.load_state_dict(best_model_wts)\n",
    "    return model    "
   ]
  },
  {
   "cell_type": "markdown",
   "metadata": {},
   "source": [
    "## Investigate Model Architecture of Original VGG-16"
   ]
  },
  {
   "cell_type": "code",
   "execution_count": 9,
   "metadata": {},
   "outputs": [
    {
     "name": "stdout",
     "output_type": "stream",
     "text": [
      "VGG(\n",
      "  (features): Sequential(\n",
      "    (0): Conv2d(3, 64, kernel_size=(3, 3), stride=(1, 1), padding=(1, 1))\n",
      "    (1): ReLU(inplace=True)\n",
      "    (2): Conv2d(64, 64, kernel_size=(3, 3), stride=(1, 1), padding=(1, 1))\n",
      "    (3): ReLU(inplace=True)\n",
      "    (4): MaxPool2d(kernel_size=2, stride=2, padding=0, dilation=1, ceil_mode=False)\n",
      "    (5): Conv2d(64, 128, kernel_size=(3, 3), stride=(1, 1), padding=(1, 1))\n",
      "    (6): ReLU(inplace=True)\n",
      "    (7): Conv2d(128, 128, kernel_size=(3, 3), stride=(1, 1), padding=(1, 1))\n",
      "    (8): ReLU(inplace=True)\n",
      "    (9): MaxPool2d(kernel_size=2, stride=2, padding=0, dilation=1, ceil_mode=False)\n",
      "    (10): Conv2d(128, 256, kernel_size=(3, 3), stride=(1, 1), padding=(1, 1))\n",
      "    (11): ReLU(inplace=True)\n",
      "    (12): Conv2d(256, 256, kernel_size=(3, 3), stride=(1, 1), padding=(1, 1))\n",
      "    (13): ReLU(inplace=True)\n",
      "    (14): Conv2d(256, 256, kernel_size=(3, 3), stride=(1, 1), padding=(1, 1))\n",
      "    (15): ReLU(inplace=True)\n",
      "    (16): MaxPool2d(kernel_size=2, stride=2, padding=0, dilation=1, ceil_mode=False)\n",
      "    (17): Conv2d(256, 512, kernel_size=(3, 3), stride=(1, 1), padding=(1, 1))\n",
      "    (18): ReLU(inplace=True)\n",
      "    (19): Conv2d(512, 512, kernel_size=(3, 3), stride=(1, 1), padding=(1, 1))\n",
      "    (20): ReLU(inplace=True)\n",
      "    (21): Conv2d(512, 512, kernel_size=(3, 3), stride=(1, 1), padding=(1, 1))\n",
      "    (22): ReLU(inplace=True)\n",
      "    (23): MaxPool2d(kernel_size=2, stride=2, padding=0, dilation=1, ceil_mode=False)\n",
      "    (24): Conv2d(512, 512, kernel_size=(3, 3), stride=(1, 1), padding=(1, 1))\n",
      "    (25): ReLU(inplace=True)\n",
      "    (26): Conv2d(512, 512, kernel_size=(3, 3), stride=(1, 1), padding=(1, 1))\n",
      "    (27): ReLU(inplace=True)\n",
      "    (28): Conv2d(512, 512, kernel_size=(3, 3), stride=(1, 1), padding=(1, 1))\n",
      "    (29): ReLU(inplace=True)\n",
      "    (30): MaxPool2d(kernel_size=2, stride=2, padding=0, dilation=1, ceil_mode=False)\n",
      "  )\n",
      "  (avgpool): AdaptiveAvgPool2d(output_size=(7, 7))\n",
      "  (classifier): Sequential(\n",
      "    (0): Linear(in_features=25088, out_features=4096, bias=True)\n",
      "    (1): ReLU(inplace=True)\n",
      "    (2): Dropout(p=0.5, inplace=False)\n",
      "    (3): Linear(in_features=4096, out_features=4096, bias=True)\n",
      "    (4): ReLU(inplace=True)\n",
      "    (5): Dropout(p=0.5, inplace=False)\n",
      "    (6): Linear(in_features=4096, out_features=1000, bias=True)\n",
      "  )\n",
      ")\n"
     ]
    }
   ],
   "source": [
    "model_inspect = models.vgg16(pretrained = True)    # get the pretrained model (vgg16 in this case)\n",
    "print(model_inspect)                               # print model architecture"
   ]
  },
  {
   "cell_type": "markdown",
   "metadata": {},
   "source": [
    "## Transfer Model 1 :: VGG-16, Freeze, Replace Final Classifier Layers with Single Layer"
   ]
  },
  {
   "cell_type": "code",
   "execution_count": 11,
   "metadata": {},
   "outputs": [
    {
     "name": "stdout",
     "output_type": "stream",
     "text": [
      "VGG(\n",
      "  (features): Sequential(\n",
      "    (0): Conv2d(3, 64, kernel_size=(3, 3), stride=(1, 1), padding=(1, 1))\n",
      "    (1): ReLU(inplace=True)\n",
      "    (2): Conv2d(64, 64, kernel_size=(3, 3), stride=(1, 1), padding=(1, 1))\n",
      "    (3): ReLU(inplace=True)\n",
      "    (4): MaxPool2d(kernel_size=2, stride=2, padding=0, dilation=1, ceil_mode=False)\n",
      "    (5): Conv2d(64, 128, kernel_size=(3, 3), stride=(1, 1), padding=(1, 1))\n",
      "    (6): ReLU(inplace=True)\n",
      "    (7): Conv2d(128, 128, kernel_size=(3, 3), stride=(1, 1), padding=(1, 1))\n",
      "    (8): ReLU(inplace=True)\n",
      "    (9): MaxPool2d(kernel_size=2, stride=2, padding=0, dilation=1, ceil_mode=False)\n",
      "    (10): Conv2d(128, 256, kernel_size=(3, 3), stride=(1, 1), padding=(1, 1))\n",
      "    (11): ReLU(inplace=True)\n",
      "    (12): Conv2d(256, 256, kernel_size=(3, 3), stride=(1, 1), padding=(1, 1))\n",
      "    (13): ReLU(inplace=True)\n",
      "    (14): Conv2d(256, 256, kernel_size=(3, 3), stride=(1, 1), padding=(1, 1))\n",
      "    (15): ReLU(inplace=True)\n",
      "    (16): MaxPool2d(kernel_size=2, stride=2, padding=0, dilation=1, ceil_mode=False)\n",
      "    (17): Conv2d(256, 512, kernel_size=(3, 3), stride=(1, 1), padding=(1, 1))\n",
      "    (18): ReLU(inplace=True)\n",
      "    (19): Conv2d(512, 512, kernel_size=(3, 3), stride=(1, 1), padding=(1, 1))\n",
      "    (20): ReLU(inplace=True)\n",
      "    (21): Conv2d(512, 512, kernel_size=(3, 3), stride=(1, 1), padding=(1, 1))\n",
      "    (22): ReLU(inplace=True)\n",
      "    (23): MaxPool2d(kernel_size=2, stride=2, padding=0, dilation=1, ceil_mode=False)\n",
      "    (24): Conv2d(512, 512, kernel_size=(3, 3), stride=(1, 1), padding=(1, 1))\n",
      "    (25): ReLU(inplace=True)\n",
      "    (26): Conv2d(512, 512, kernel_size=(3, 3), stride=(1, 1), padding=(1, 1))\n",
      "    (27): ReLU(inplace=True)\n",
      "    (28): Conv2d(512, 512, kernel_size=(3, 3), stride=(1, 1), padding=(1, 1))\n",
      "    (29): ReLU(inplace=True)\n",
      "    (30): MaxPool2d(kernel_size=2, stride=2, padding=0, dilation=1, ceil_mode=False)\n",
      "  )\n",
      "  (avgpool): AdaptiveAvgPool2d(output_size=(7, 7))\n",
      "  (classifier): Linear(in_features=25088, out_features=2, bias=True)\n",
      ")\n"
     ]
    }
   ],
   "source": [
    "model_freeze_single = models.vgg16(pretrained = True) # get the pretrained model (vgg16 in this case)\n",
    "\n",
    "for param in model_freeze_single.parameters():          # freeze parameters, prevent gradients from being calculated\n",
    "    param.require_grad = False\n",
    "\n",
    "num_ftrs = model_freeze_single.classifier[0].in_features              # get number of features coming into first FC layer of pretrained model\n",
    "model_freeze_single.classifier = nn.Linear(num_ftrs, len(class_names))# replace final layer with inputs from existing, outputs to new classes\n",
    "\n",
    "print(model_freeze_single)                                            # print model architecture"
   ]
  },
  {
   "cell_type": "code",
   "execution_count": 12,
   "metadata": {},
   "outputs": [],
   "source": [
    "# instantiate cross-entropy loss\n",
    "criterion = nn.CrossEntropyLoss()                           \n",
    "# instantiate SGD optimizer - NOTE ONLY FULLY CONNECTED LAYERS (all classifier)\n",
    "optimizer = optim.SGD(model_freeze_single.classifier.parameters(), lr = 0.001, momentum = 0.9)\n",
    "# instantiate Decay LR by a factor of 0.1 every 7 epochs\n",
    "exp_lr_scheduler = lr_scheduler.StepLR(optimizer, step_size=7, gamma=0.1) "
   ]
  },
  {
   "cell_type": "code",
   "execution_count": 23,
   "metadata": {},
   "outputs": [
    {
     "name": "stdout",
     "output_type": "stream",
     "text": [
      "Training Epoch: 1\n",
      "Epoch: 1 Train Loss : 0.0000  Train Accuracy: 0.0164\n",
      "Epoch: 1 Validation Loss : 1.7529  Validation Accuracy 0.9216\n"
     ]
    },
    {
     "ename": "NameError",
     "evalue": "name 'epoch_acc' is not defined",
     "output_type": "error",
     "traceback": [
      "\u001b[0;31m---------------------------------------------------------------------------\u001b[0m",
      "\u001b[0;31mNameError\u001b[0m                                 Traceback (most recent call last)",
      "\u001b[0;32m<ipython-input-23-a236def028a5>\u001b[0m in \u001b[0;36m<module>\u001b[0;34m\u001b[0m\n\u001b[0;32m----> 1\u001b[0;31m \u001b[0mmodel_freeze_single\u001b[0m \u001b[0;34m=\u001b[0m \u001b[0mtrain_model\u001b[0m\u001b[0;34m(\u001b[0m\u001b[0mmodel_freeze_single\u001b[0m\u001b[0;34m,\u001b[0m \u001b[0mdataloaders\u001b[0m\u001b[0;34m,\u001b[0m \u001b[0moptimizer\u001b[0m\u001b[0;34m,\u001b[0m \u001b[0mexp_lr_scheduler\u001b[0m\u001b[0;34m,\u001b[0m \u001b[0mcriterion\u001b[0m\u001b[0;34m,\u001b[0m \u001b[0;36m2\u001b[0m\u001b[0;34m)\u001b[0m\u001b[0;34m\u001b[0m\u001b[0m\n\u001b[0m",
      "\u001b[0;32m<ipython-input-22-3a5206821305>\u001b[0m in \u001b[0;36mtrain_model\u001b[0;34m(model, loader, optimizer, scheduler, criterion, epochs)\u001b[0m\n\u001b[1;32m     51\u001b[0m \u001b[0;34m\u001b[0m\u001b[0m\n\u001b[1;32m     52\u001b[0m         \u001b[0;31m# if current epoch validation accuracy is greatest yet, deep copy the model parameters\u001b[0m\u001b[0;34m\u001b[0m\u001b[0;34m\u001b[0m\u001b[0m\n\u001b[0;32m---> 53\u001b[0;31m         \u001b[0;32mif\u001b[0m \u001b[0mepoch_acc\u001b[0m \u001b[0;34m>\u001b[0m \u001b[0mbest_acc\u001b[0m\u001b[0;34m:\u001b[0m\u001b[0;34m\u001b[0m\u001b[0m\n\u001b[0m\u001b[1;32m     54\u001b[0m             \u001b[0mbest_acc\u001b[0m \u001b[0;34m=\u001b[0m \u001b[0mepoch_acc\u001b[0m\u001b[0;34m\u001b[0m\u001b[0m\n\u001b[1;32m     55\u001b[0m             \u001b[0mbest_model_wts\u001b[0m \u001b[0;34m=\u001b[0m \u001b[0mcopy\u001b[0m\u001b[0;34m.\u001b[0m\u001b[0mdeepcopy\u001b[0m\u001b[0;34m(\u001b[0m\u001b[0mmodel\u001b[0m\u001b[0;34m.\u001b[0m\u001b[0mstate_dict\u001b[0m\u001b[0;34m(\u001b[0m\u001b[0;34m)\u001b[0m\u001b[0;34m)\u001b[0m\u001b[0;34m\u001b[0m\u001b[0m\n",
      "\u001b[0;31mNameError\u001b[0m: name 'epoch_acc' is not defined"
     ]
    }
   ],
   "source": [
    "model_freeze_single = train_model(model_freeze_single, dataloaders, optimizer, exp_lr_scheduler, criterion, 2) "
   ]
  },
  {
   "cell_type": "markdown",
   "metadata": {},
   "source": [
    "## Transfer Model 2 :: VGG-16, Freeze, Replace Final Classifier Layers with New Architecture"
   ]
  },
  {
   "cell_type": "code",
   "execution_count": null,
   "metadata": {},
   "outputs": [],
   "source": [
    "model_freeze_arch = models.vgg16(pretrained = True)   # get the pretrained model (vgg16 in this case)\n",
    "\n",
    "for param in model_freeze_arch.parameters():          # freeze parameters, prevent gradients from being calculated\n",
    "    param.require_grad = False\n",
    "    \n",
    "# by modifying the classifier of the loaded NN with a new classifier, adapted to our datasets structure,\n",
    "# mainly in terms of the dataset’s input feature size and expected output size. The following code snippet\n",
    "# creates a classifier for our custom dataset, and is then added to the loaded vgg-16 model.\n",
    "\n",
    "num_ftrs = model_freeze_arch.classifier[0].in_features                  # get number of features coming into first FC layer of pretrained model\n",
    "\n",
    "# create multilayer classifier\n",
    "classifier = nn.Sequential(OrderedDict([('fc1', nn.Linear(num_ftrs, 1000)),# FC layer, input size specific to vgg16\n",
    "                           ('relu', nn.ReLU()),                            # apply relu\n",
    "                           ('dropout', nn.Dropout(p=0.337)),               # apply dropout\n",
    "                           ('fc2', nn.Linear(1000, len(class_names))),     # FC layer, input size 512 from fc1, output size is number of classes\n",
    "                           ('output', nn.LogSoftmax(dim=1))                # Softmax\n",
    "                            ]))\n",
    "\n",
    "model_freeze_arch.classifier = classifier              # replace the model's classifier with this new classifier\n",
    "print(model_freeze_arch)                              # print model architecture"
   ]
  },
  {
   "cell_type": "code",
   "execution_count": null,
   "metadata": {},
   "outputs": [],
   "source": [
    "# instantiate SGD optimizer - NOTE ONLY FULLY CONNECTED LAYERS (all classifier)\n",
    "optimizer = optim.SGD(model_freeze_arch.classifier.parameters(), lr = 0.001, momentum = 0.9)\n",
    "# instantiate Decay LR by a factor of 0.1 every 7 epochs\n",
    "exp_lr_scheduler = lr_scheduler.StepLR(optimizer, step_size=7, gamma=0.1)"
   ]
  },
  {
   "cell_type": "code",
   "execution_count": null,
   "metadata": {},
   "outputs": [],
   "source": [
    "model_freeze_arch = train_model(model_freeze_arch, dataloaders, optimizer, exp_lr_scheduler, criterion, 2) "
   ]
  },
  {
   "cell_type": "markdown",
   "metadata": {},
   "source": [
    "## Transfer Model 3 :: VGG-16, Fine Tune (Unlocked), Replace Final Classifier Layers with New Architecture"
   ]
  },
  {
   "cell_type": "code",
   "execution_count": null,
   "metadata": {},
   "outputs": [],
   "source": [
    "model_tune_multi = models.vgg16(pretrained = True)       # get the pretrained model (vgg16 in this case)\n",
    "num_ftrs = model_tune_multi.classifier[0].in_features    # get number of features coming into first FC layer of pretrained model\n",
    "\n",
    "# create multilayer classifier\n",
    "classifier = nn.Sequential(OrderedDict([('fc1', nn.Linear(num_ftrs, 1000)),# FC layer, input size specific to vgg16\n",
    "                           ('relu', nn.ReLU()),                            # apply relu\n",
    "                           ('dropout', nn.Dropout(p=0.337)),               # apply dropout\n",
    "                           ('fc2', nn.Linear(1000, len(class_names))),     # FC layer, input size 512 from fc1, output size is number of classes\n",
    "                           ('output', nn.LogSoftmax(dim=1))                # Softmax\n",
    "                            ]))\n",
    "\n",
    "model_tune_multi.classifier = classifier              # replace the model's classifier with this new classifier\n",
    "print(model_tune_multi)                               # print model architecture"
   ]
  },
  {
   "cell_type": "code",
   "execution_count": null,
   "metadata": {},
   "outputs": [],
   "source": [
    "# instantiate SGD optimizer - NOTE ALL MODEL PARAMETERS (NOT ONLY THE CLASSIFIER)\n",
    "optimizer = optim.SGD(model_tune_multi.classifier.parameters(), lr = 0.001, momentum = 0.9)\n",
    "# instantiate Decay LR by a factor of 0.1 every 7 epochs\n",
    "exp_lr_scheduler = lr_scheduler.StepLR(optimizer, step_size=7, gamma=0.1)"
   ]
  },
  {
   "cell_type": "code",
   "execution_count": null,
   "metadata": {},
   "outputs": [],
   "source": [
    "train_model(model_tune_multi, 1)"
   ]
  },
  {
   "cell_type": "markdown",
   "metadata": {},
   "source": [
    "## Define train() and validation() Functions"
   ]
  },
  {
   "cell_type": "code",
   "execution_count": null,
   "metadata": {},
   "outputs": [],
   "source": [
    "# https://medium.com/@tsakunelsonz/loading-and-training-a-neural-network-with-custom-dataset-via-transfer-learning-in-pytorch-8e672933469\n",
    "# https://pytorch.org/tutorials/beginner/transfer_learning_tutorial.html\n",
    "\n",
    "## Two functions for training are training() and validation()\n",
    "################# define training function; this function calculates gradients and measures loss and accuracy on the tr\n",
    "def train (model, loader, criterion, gpu):\n",
    "    model.train()                          # switch to training mode\n",
    "    current_loss = 0\n",
    "    current_correct = 0\n",
    "    for train, y_train in iter(loader):    # iterate on DataLoader\n",
    "        if gpu:                            # train.to and y_train.to are defaulted to CPU\n",
    "            train, y_train = train.to('cuda'), y_train.to('cuda') # if GPU then use GPU not CPU, via to() method\n",
    "        optimizer.zero_grad()              # initialize optimizer gradients to zero\n",
    "        output = model.forward(train)      # feed forward the training instance\n",
    "        _, preds = torch.max(output,1)\n",
    "        loss = criterion(output, y_train)  # calculate cross entropy loss\n",
    "        loss.backward()                    # calculate graients via back propagate the gradients\n",
    "        optimizer.step()                   # parameter update based on the current gradient (stored in .grad attribute of a parameter) and the update rule.\n",
    "        current_loss += loss.item()*train.size(0)\n",
    "        current_correct += torch.sum(preds == y_train.data)\n",
    "    epoch_loss = current_loss / len(dataloaders[\"train\"].dataset)\n",
    "    epoch_acc = current_correct.double() / len(dataloaders[\"train\"].dataset)\n",
    "    return epoch_loss, epoch_acc\n",
    "\n",
    "################ define validation function; this function measures loss and accuracy on the validation set\n",
    "def validation (model, loader, criterion, gpu):\n",
    "    model.eval()                           # switch to evaluation mode\n",
    "    valid_loss = 0\n",
    "    valid_correct = 0\n",
    "    for valid, y_valid in iter(loader):\n",
    "        if gpu:\n",
    "            valid, y_valid = valid.to('cuda'), y_valid.to('cuda')\n",
    "        output = model.forward(valid)\n",
    "        valid_loss += criterion(output, y_valid).item()*valid.size(0)\n",
    "        equal = (output.max(dim=1)[1] == y_valid.data)\n",
    "        valid_correct += torch.sum(equal)#type(torch.FloatTensor)\n",
    "    \n",
    "    epoch_loss = valid_loss / len(dataloaders[\"val\"].dataset)\n",
    "    epoch_acc = valid_correct.double() / len(dataloaders[\"val\"].dataset)\n",
    "    return epoch_loss, epoch_acc\n",
    "\n"
   ]
  },
  {
   "cell_type": "markdown",
   "metadata": {},
   "source": [
    "## Run Epochs over train() and validation()"
   ]
  },
  {
   "cell_type": "code",
   "execution_count": null,
   "metadata": {},
   "outputs": [],
   "source": [
    "def train_model(model, epochs):\n",
    "    epoch = 0                 # initialize counter\n",
    "    for e in range(epochs):\n",
    "        epoch +=1             # increment epoch\n",
    "        print(\"Training Epoch: {}\".format(epoch))\n",
    "        with torch.set_grad_enabled(True):             # \n",
    "            epoch_train_loss, epoch_train_acc = train(model, dataloaders[\"train\"], criteria, False)\n",
    "        print(\"Epoch: {} Train Loss : {:.4f}  Train Accuracy: {:.4f}\".format(epoch, epoch_train_loss, epoch_train_acc))\n",
    "        with torch.no_grad():\n",
    "            epoch_val_loss, epoch_val_acc = validation(model, dataloaders[\"val\"], criteria, False)\n",
    "        print(\"Epoch: {} Validation Loss : {:.4f}  Validation Accuracy {:.4f}\".format(epoch,epoch_val_loss,epoch_val_acc))"
   ]
  },
  {
   "cell_type": "markdown",
   "metadata": {},
   "source": [
    "## Testing the Modified Network"
   ]
  },
  {
   "cell_type": "code",
   "execution_count": null,
   "metadata": {},
   "outputs": [],
   "source": [
    "def visualize_model(model, num_images=6):\n",
    "    was_training = model.training\n",
    "    model.eval()\n",
    "    images_so_far = 0\n",
    "    fig = plt.figure()\n",
    "\n",
    "    with torch.no_grad():\n",
    "        for i, (inputs, labels) in enumerate(dataloaders['val']):\n",
    "            inputs = inputs.to(device)\n",
    "            labels = labels.to(device)\n",
    "\n",
    "            outputs = model(inputs)\n",
    "            _, preds = torch.max(outputs, 1)\n",
    "\n",
    "            for j in range(inputs.size()[0]):\n",
    "                images_so_far += 1\n",
    "                ax = plt.subplot(num_images//2, 2, images_so_far)\n",
    "                ax.axis('off')\n",
    "                ax.set_title('predicted: {}'.format(class_names[preds[j]]))\n",
    "                imshow(inputs.cpu().data[j])\n",
    "\n",
    "                if images_so_far == num_images:\n",
    "                    model.train(mode=was_training)\n",
    "                    return\n",
    "        model.train(mode=was_training)"
   ]
  },
  {
   "cell_type": "code",
   "execution_count": null,
   "metadata": {},
   "outputs": [],
   "source": [
    "visualize_model(model_freeze_arch)"
   ]
  },
  {
   "cell_type": "code",
   "execution_count": null,
   "metadata": {},
   "outputs": [],
   "source": []
  },
  {
   "cell_type": "code",
   "execution_count": null,
   "metadata": {},
   "outputs": [],
   "source": []
  },
  {
   "cell_type": "code",
   "execution_count": null,
   "metadata": {},
   "outputs": [],
   "source": []
  },
  {
   "cell_type": "code",
   "execution_count": null,
   "metadata": {},
   "outputs": [],
   "source": []
  },
  {
   "cell_type": "code",
   "execution_count": null,
   "metadata": {},
   "outputs": [],
   "source": []
  },
  {
   "cell_type": "code",
   "execution_count": null,
   "metadata": {},
   "outputs": [],
   "source": []
  }
 ],
 "metadata": {
  "kernelspec": {
   "display_name": "Python 3",
   "language": "python",
   "name": "python3"
  },
  "language_info": {
   "codemirror_mode": {
    "name": "ipython",
    "version": 3
   },
   "file_extension": ".py",
   "mimetype": "text/x-python",
   "name": "python",
   "nbconvert_exporter": "python",
   "pygments_lexer": "ipython3",
   "version": "3.6.5"
  }
 },
 "nbformat": 4,
 "nbformat_minor": 2
}
